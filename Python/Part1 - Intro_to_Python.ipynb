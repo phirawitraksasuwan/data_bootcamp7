{
 "cells":[
  {
   "cell_type":"markdown",
   "source":[
    "# Review Python Language"
   ],
   "attachments":{
    
   },
   "metadata":{
    "datalore":{
     "node_id":"MiYzvFUZe6b0arsn6tohaU",
     "type":"MD",
     "hide_input_from_viewers":true,
     "hide_output_from_viewers":true
    }
   }
  },
  {
   "cell_type":"code",
   "source":[
    "print(\"Hello World\")"
   ],
   "execution_count":1,
   "outputs":[
    {
     "name":"stdout",
     "text":[
      "Hello World\n"
     ],
     "output_type":"stream"
    }
   ],
   "metadata":{
    "datalore":{
     "node_id":"x0T9DLNogjA04ak60kF8yA",
     "type":"CODE",
     "hide_input_from_viewers":true,
     "hide_output_from_viewers":true
    }
   }
  },
  {
   "cell_type":"markdown",
   "source":[
    "## Variable"
   ],
   "attachments":{
    
   },
   "metadata":{
    "datalore":{
     "node_id":"eKD82kStH3ZxUCiujfQEa0",
     "type":"MD",
     "hide_input_from_viewers":true,
     "hide_output_from_viewers":true
    }
   }
  },
  {
   "cell_type":"code",
   "source":[
    "# การประกาศตัวแปร\n",
    "my_name = \"Xo\" #'Xo'\n",
    "my_age = 33"
   ],
   "execution_count":2,
   "outputs":[
    
   ],
   "metadata":{
    "datalore":{
     "node_id":"G0V6MLQwk9zamjH0ZPRZk7",
     "type":"CODE",
     "hide_input_from_viewers":true,
     "hide_output_from_viewers":true
    }
   }
  },
  {
   "cell_type":"code",
   "source":[
    "print(my_name)\n",
    "print(my_age)"
   ],
   "execution_count":3,
   "outputs":[
    {
     "name":"stdout",
     "text":[
      "Xo\n",
      "33\n"
     ],
     "output_type":"stream"
    }
   ],
   "metadata":{
    "datalore":{
     "node_id":"w14K1j8Si9hOwN1Xp2JSpQ",
     "type":"CODE",
     "hide_input_from_viewers":true,
     "hide_output_from_viewers":true
    }
   }
  },
  {
   "cell_type":"code",
   "source":[
    "print(1+1)\n",
    "print(2*3)\n",
    "print(5\/2)\n",
    "print(5-2)"
   ],
   "execution_count":4,
   "outputs":[
    {
     "name":"stdout",
     "text":[
      "2\n",
      "6\n",
      "2.5\n",
      "3\n"
     ],
     "output_type":"stream"
    }
   ],
   "metadata":{
    "datalore":{
     "node_id":"1NSpSvSkoH7GrE8fTnd8ig",
     "type":"CODE",
     "hide_input_from_viewers":true,
     "hide_output_from_viewers":true
    }
   }
  },
  {
   "cell_type":"markdown",
   "source":[
    "## String"
   ],
   "attachments":{
    
   },
   "metadata":{
    "datalore":{
     "node_id":"11cH85HUrG70lexNQNOjvQ",
     "type":"MD",
     "hide_input_from_viewers":true,
     "hide_output_from_viewers":true
    }
   }
  },
  {
   "cell_type":"markdown",
   "source":[
    "### String & fString in Python"
   ],
   "attachments":{
    
   },
   "metadata":{
    "datalore":{
     "node_id":"caf7pq8qXoEFiuRPfaGnGL",
     "type":"MD",
     "hide_input_from_viewers":true,
     "hide_output_from_viewers":true
    }
   }
  },
  {
   "cell_type":"code",
   "source":[
    "# String\n",
    "my_name = \"Xo\"\n",
    "my_university = 'MSU'\n",
    "\n",
    "my_long_string = \"\"\" This is a very long\n",
    "    This is a second line \n",
    "    This is a third Line\n",
    "\"\"\"\n",
    "print(my_name, my_university, my_long_string)"
   ],
   "execution_count":5,
   "outputs":[
    {
     "name":"stdout",
     "text":[
      "Xo MSU  This is a very long\n",
      "    This is a second line \n",
      "    This is a third Line\n",
      "\n"
     ],
     "output_type":"stream"
    }
   ],
   "metadata":{
    "datalore":{
     "node_id":"yRH0Al0r9JNC9lhPPoh6vY",
     "type":"CODE",
     "hide_input_from_viewers":true,
     "hide_output_from_viewers":true
    }
   }
  },
  {
   "cell_type":"code",
   "source":[
    "# fString template\n",
    "my_name = \"Xo\"\n",
    "my_age = 33\n",
    "\n",
    "# \"my name is Xo , and I am 33 years old. \"\n",
    "text = f\"my name is {my_name} , and I am {my_age} years old.\"\n",
    "print(text)"
   ],
   "execution_count":6,
   "outputs":[
    {
     "name":"stdout",
     "text":[
      "my name is Xo , and I am 33 years old.\n"
     ],
     "output_type":"stream"
    }
   ],
   "metadata":{
    "datalore":{
     "node_id":"Xgb959fX23Cp4wQJBD618E",
     "type":"CODE",
     "hide_input_from_viewers":true,
     "hide_output_from_viewers":true
    }
   }
  },
  {
   "cell_type":"markdown",
   "source":[
    "## String Methods"
   ],
   "attachments":{
    
   },
   "metadata":{
    "datalore":{
     "node_id":"RUDVjLCNOQcnth1YOBxHWG",
     "type":"MD",
     "hide_input_from_viewers":true,
     "hide_output_from_viewers":true
    }
   }
  },
  {
   "cell_type":"code",
   "source":[
    "# function designed for string (String Methods)\n",
    "text_1 = \"a duck walks into a bar\"\n",
    "print(text_1)\n",
    "print(type(text_1))"
   ],
   "execution_count":8,
   "outputs":[
    {
     "name":"stdout",
     "text":[
      "a duck walks into a bar\n",
      "<class 'str'>\n"
     ],
     "output_type":"stream"
    }
   ],
   "metadata":{
    "datalore":{
     "node_id":"vLZ3uDo4wGnI4UuD2TY9aJ",
     "type":"CODE",
     "hide_input_from_viewers":true,
     "hide_output_from_viewers":true
    }
   }
  },
  {
   "cell_type":"code",
   "source":[
    "type(text_1)"
   ],
   "execution_count":9,
   "outputs":[
    {
     "data":{
      "text\/plain":[
       "str"
      ]
     },
     "metadata":{
      
     },
     "output_type":"display_data"
    }
   ],
   "metadata":{
    "datalore":{
     "node_id":"U4SFshxOQgOhT2RZdITqpE",
     "type":"CODE",
     "hide_input_from_viewers":true,
     "hide_output_from_viewers":true
    }
   }
  },
  {
   "cell_type":"code",
   "source":[
    "print(text_1.upper())\n",
    "print(\"HELLO WORLD\".lower())\n",
    "print(text_1.count(\"a\")) # หา a ที่อยู่ใน text_1 มีกี่ตัว\n",
    "\n",
    "#สามารถเปลี่ยน คำในประโยคนั้นๆได้\n",
    "text_2 = text_1.replace(\"duck\",\"lion\")\n",
    "print(text_1)\n",
    "print(text_2)"
   ],
   "execution_count":19,
   "outputs":[
    {
     "name":"stdout",
     "text":[
      "A DUCK WALKS INTO A BAR\n",
      "hello world\n",
      "4\n",
      "a duck walks into a bar\n",
      "a lion walks into a bar\n"
     ],
     "output_type":"stream"
    }
   ],
   "metadata":{
    "datalore":{
     "node_id":"9MpaS12V9MzN9uTDN1tP8R",
     "type":"CODE",
     "hide_input_from_viewers":true,
     "hide_output_from_viewers":true
    }
   }
  },
  {
   "cell_type":"markdown",
   "source":[
    "## List"
   ],
   "attachments":{
    
   },
   "metadata":{
    "datalore":{
     "node_id":"d11kDfCjguqH8ylyszBqxo",
     "type":"MD",
     "hide_input_from_viewers":true,
     "hide_output_from_viewers":true
    }
   }
  },
  {
   "cell_type":"code",
   "source":[
    "# data structure \n",
    "shopping_list = [\"egg\", \"mike\", \"bread\"]\n",
    "print(shopping_list)"
   ],
   "execution_count":28,
   "outputs":[
    {
     "name":"stdout",
     "text":[
      "['egg', 'mike', 'bread']\n"
     ],
     "output_type":"stream"
    }
   ],
   "metadata":{
    "datalore":{
     "node_id":"kV1JjKpIyD2TIllCBMn1WK",
     "type":"CODE",
     "hide_input_from_viewers":true,
     "hide_output_from_viewers":true
    }
   }
  },
  {
   "cell_type":"code",
   "source":[
    "print(shopping_list[0])\n",
    "print(shopping_list[1])\n",
    "print(shopping_list[2])\n",
    "print(shopping_list[0:2]) # up to"
   ],
   "execution_count":23,
   "outputs":[
    {
     "name":"stdout",
     "text":[
      "egg\n",
      "mike\n",
      "bread\n",
      "['egg', 'mike']\n"
     ],
     "output_type":"stream"
    }
   ],
   "metadata":{
    "datalore":{
     "node_id":"zmI9YeHD8Ozp4uYMz4gSGG",
     "type":"CODE",
     "hide_input_from_viewers":true,
     "hide_output_from_viewers":true
    }
   }
  },
  {
   "cell_type":"code",
   "source":[
    "# list methods = .append()  เพิ่มตัวแปรใน list\n",
    "shopping_list.append(\"orange juice\")\n",
    "shopping_list.append(\"water bottle\")"
   ],
   "execution_count":29,
   "outputs":[
    
   ],
   "metadata":{
    "datalore":{
     "node_id":"TGnvcsMEbZrlPGOBwhoj6q",
     "type":"CODE",
     "hide_input_from_viewers":true,
     "hide_output_from_viewers":true
    }
   }
  },
  {
   "cell_type":"code",
   "source":[
    "print(shopping_list)"
   ],
   "execution_count":30,
   "outputs":[
    {
     "name":"stdout",
     "text":[
      "['egg', 'mike', 'bread', 'orange juice', 'water bottle']\n"
     ],
     "output_type":"stream"
    }
   ],
   "metadata":{
    "datalore":{
     "node_id":"wKjkLDZ6H9mdUGdybYDRAR",
     "type":"CODE",
     "hide_input_from_viewers":true,
     "hide_output_from_viewers":true
    }
   }
  },
  {
   "cell_type":"code",
   "source":[
    "# list methods = .pop() ใช้ลบ item ตัวสุดท้ายออกจาก list\n",
    "shopping_list.pop()"
   ],
   "execution_count":31,
   "outputs":[
    {
     "data":{
      "text\/plain":[
       "'water bottle'"
      ]
     },
     "metadata":{
      
     },
     "output_type":"display_data"
    }
   ],
   "metadata":{
    "datalore":{
     "node_id":"UnjwLFcOmJzAlajTG9hygM",
     "type":"CODE",
     "hide_input_from_viewers":true,
     "hide_output_from_viewers":true
    }
   }
  },
  {
   "cell_type":"code",
   "source":[
    "print(shopping_list)\n",
    "len(shopping_list)"
   ],
   "execution_count":34,
   "outputs":[
    {
     "name":"stdout",
     "text":[
      "['egg', 'mike', 'bread', 'orange juice']\n"
     ],
     "output_type":"stream"
    },
    {
     "data":{
      "text\/plain":[
       "4"
      ]
     },
     "metadata":{
      
     },
     "output_type":"display_data"
    }
   ],
   "metadata":{
    "datalore":{
     "node_id":"X4A4m9DdciL9ppPB0cFPcx",
     "type":"CODE",
     "hide_input_from_viewers":true,
     "hide_output_from_viewers":true
    }
   }
  },
  {
   "cell_type":"markdown",
   "source":[
    "## Dictionary"
   ],
   "attachments":{
    
   },
   "metadata":{
    "datalore":{
     "node_id":"8G9LwCXKVnUR3Rbww4JcYU",
     "type":"MD",
     "hide_input_from_viewers":true,
     "hide_output_from_viewers":true
    }
   }
  },
  {
   "cell_type":"code",
   "source":[
    "# dictionary key-value pair , key : value\n",
    "student = {\n",
    "    \"id\" : 1,\n",
    "    \"name\": \"Mary\",\n",
    "    \"age\" : 22,\n",
    "    \"movies\": [\"spider Man\", \"Thor\",\"Iron Man 3\" ]\n",
    "}\n",
    "print(type(student))"
   ],
   "execution_count":35,
   "outputs":[
    {
     "name":"stdout",
     "text":[
      "<class 'dict'>\n"
     ],
     "output_type":"stream"
    }
   ],
   "metadata":{
    "datalore":{
     "node_id":"ks3dRc9hSIcHFP0ZYdsn2X",
     "type":"CODE",
     "hide_input_from_viewers":true,
     "hide_output_from_viewers":true
    }
   }
  },
  {
   "cell_type":"code",
   "source":[
    "\n",
    "print(student[\"name\"])\n",
    "print(student[\"movies\"][2])"
   ],
   "execution_count":41,
   "outputs":[
    {
     "name":"stdout",
     "text":[
      "Mary\n",
      "Iron Man 3\n"
     ],
     "output_type":"stream"
    }
   ],
   "metadata":{
    "datalore":{
     "node_id":"HGIc7Iw7kitJ1fX1EjaEtG",
     "type":"CODE",
     "hide_input_from_viewers":true,
     "hide_output_from_viewers":true
    }
   }
  },
  {
   "cell_type":"code",
   "source":[
    "# เพิ่ม key ลงไปจากเดิม\n",
    "student[\"city\"] = \"London\"\n",
    "student"
   ],
   "execution_count":44,
   "outputs":[
    {
     "data":{
      "text\/plain":[
       "{'id': 1,\n",
       " 'name': 'Mary',\n",
       " 'age': 22,\n",
       " 'movies': ['spider Man', 'Thor', 'Iron Man 3'],\n",
       " 'city': 'London'}"
      ]
     },
     "metadata":{
      
     },
     "output_type":"display_data"
    }
   ],
   "metadata":{
    "datalore":{
     "node_id":"zTy91lr64Ce4bown0Omd4J",
     "type":"CODE",
     "hide_input_from_viewers":true,
     "hide_output_from_viewers":true
    }
   }
  },
  {
   "cell_type":"code",
   "source":[
    "# update value ; จาก London เป็น Manchester\n",
    "student[\"city\"] = \"Manchester\"\n",
    "student"
   ],
   "execution_count":46,
   "outputs":[
    {
     "data":{
      "text\/plain":[
       "{'id': 1,\n",
       " 'name': 'Mary',\n",
       " 'age': 22,\n",
       " 'movies': ['spider Man', 'Thor', 'Iron Man 3'],\n",
       " 'city': 'Manchester'}"
      ]
     },
     "metadata":{
      
     },
     "output_type":"display_data"
    }
   ],
   "metadata":{
    "datalore":{
     "node_id":"Sr2v4xUwsB5wajFnYG85qz",
     "type":"CODE",
     "hide_input_from_viewers":true,
     "hide_output_from_viewers":true
    }
   }
  },
  {
   "cell_type":"code",
   "source":[
    "# Remove key-value\n",
    "del student[\"city\"]\n",
    "student"
   ],
   "execution_count":47,
   "outputs":[
    {
     "data":{
      "text\/plain":[
       "{'id': 1,\n",
       " 'name': 'Mary',\n",
       " 'age': 22,\n",
       " 'movies': ['spider Man', 'Thor', 'Iron Man 3']}"
      ]
     },
     "metadata":{
      
     },
     "output_type":"display_data"
    }
   ],
   "metadata":{
    "datalore":{
     "node_id":"5nDBSOaNbC8Qv4kiUFMXrX",
     "type":"CODE",
     "hide_input_from_viewers":true,
     "hide_output_from_viewers":true
    }
   }
  },
  {
   "cell_type":"markdown",
   "source":[
    "## Function"
   ],
   "attachments":{
    
   },
   "metadata":{
    "datalore":{
     "node_id":"CUmuU8LclJmRpNzZWEwO1G",
     "type":"MD",
     "hide_input_from_viewers":true,
     "hide_output_from_viewers":true
    }
   }
  },
  {
   "cell_type":"code",
   "source":[
    "# user - defined function\n",
    "def hello(username):\n",
    "    print(\"Hello! \" + username)\n",
    "    print(\" I am learning Python\")"
   ],
   "execution_count":51,
   "outputs":[
    
   ],
   "metadata":{
    "datalore":{
     "node_id":"2auLRy0kJ1gsE2MGDqTNDR",
     "type":"CODE",
     "hide_input_from_viewers":true,
     "hide_output_from_viewers":true
    }
   }
  },
  {
   "cell_type":"code",
   "source":[
    "hello('xo')"
   ],
   "execution_count":53,
   "outputs":[
    {
     "name":"stdout",
     "text":[
      "Hello!xo\n",
      " I am learning Python\n"
     ],
     "output_type":"stream"
    }
   ],
   "metadata":{
    "datalore":{
     "node_id":"iZVCtSMdGbu1lRUwU7zYCw",
     "type":"CODE",
     "hide_input_from_viewers":true,
     "hide_output_from_viewers":true
    }
   }
  },
  {
   "cell_type":"code",
   "source":[
    "def my_sum(val1, val2):\n",
    "    print(val1 + val2) #print จะไม่สามารถฝากค่าได้ เป็นเเค่การเเสดงผล\n",
    "my_sum(5,20)"
   ],
   "execution_count":54,
   "outputs":[
    {
     "name":"stdout",
     "text":[
      "25\n"
     ],
     "output_type":"stream"
    }
   ],
   "metadata":{
    "datalore":{
     "node_id":"CHXddp7bwgXfIUdbLKtjzd",
     "type":"CODE",
     "hide_input_from_viewers":true,
     "hide_output_from_viewers":true
    }
   }
  },
  {
   "cell_type":"code",
   "source":[
    "def my_sum1(val1, val2):\n",
    "    return val1 + val2    # return ใช้งานได้เหมือน print เเต่จะสามารถฝากค่าไว้ใน object เพื่อนำ object มาคำนวนต่อได้หรือใช้งานต่อได้\n",
    "\n",
    "result = my_sum1(5,20)\n",
    "\n",
    "print(\"###########\")\n",
    "print(result)\n",
    "print(result*2)"
   ],
   "execution_count":65,
   "outputs":[
    {
     "name":"stdout",
     "text":[
      "###########\n",
      "25\n",
      "50\n"
     ],
     "output_type":"stream"
    }
   ],
   "metadata":{
    "datalore":{
     "node_id":"hSCvBdeL1msgitZk7ME1qZ",
     "type":"CODE",
     "hide_input_from_viewers":true,
     "hide_output_from_viewers":true
    }
   }
  },
  {
   "cell_type":"markdown",
   "source":[
    "## OOP = object-oriented programming\n",
    "#### อยากเขียนบางสิงบางอย่างออกมาให้คอมรู้จักมัน โดยมีตัวแปรต่างๆ เช่น อยากสร้างหมา จะใช้ตัวแปร สี สายพันธุ์ ชื่อ อายุ\n",
    "##### Class Methods = sitting(), barking(), running() คือ function ต่างๆที่ต้องการให้ทำ"
   ],
   "attachments":{
    
   },
   "metadata":{
    "datalore":{
     "node_id":"mqdKZMaPKUadB4wiOBKh6V",
     "type":"MD",
     "hide_input_from_viewers":true,
     "hide_output_from_viewers":true
    }
   }
  },
  {
   "cell_type":"code",
   "source":[
    "class  Dog : \n",
    "    name = \"xo\"\n",
    "    age = 4 \n",
    "    color = \"Brown\"\n",
    "    breed = \"French Bulldog\"\n",
    "\n",
    "    #function ## การที่มี self ต้องอยู่ในชุดคำสั่ง ไม่งั้นจะทำไม่ได้ ลองไปเขียน newcode เเล้วมันไม่ขึ้น self\n",
    "    def sitting(self):\n",
    "        print(\"I am sitting now! \")\n",
    "    def hungry(self):\n",
    "        print(\"I am hungry, I need food!\")\n",
    "    # input \n",
    "    def hungry1(self, food_name):\n",
    "        print(f\"I am hungry, I need {food_name}!\")"
   ],
   "execution_count":6,
   "outputs":[
    
   ],
   "metadata":{
    "datalore":{
     "node_id":"1xA2wEosvKnsIjf58qkUET",
     "type":"CODE",
     "hide_input_from_viewers":true,
     "hide_output_from_viewers":true
    }
   }
  },
  {
   "cell_type":"code",
   "source":[
    "my_dog = Dog()\n",
    "type(my_dog)\n",
    "# ผลที่ได้ออกมาจะเป็น Dog class"
   ],
   "execution_count":7,
   "outputs":[
    {
     "data":{
      "text\/plain":[
       "__main__.Dog"
      ]
     },
     "metadata":{
      
     },
     "output_type":"display_data"
    }
   ],
   "metadata":{
    "datalore":{
     "node_id":"hYS2MFMwtzQIheHm4M5AS3",
     "type":"CODE",
     "hide_input_from_viewers":true,
     "hide_output_from_viewers":true
    }
   }
  },
  {
   "cell_type":"code",
   "source":[
    "print(my_dog.name)\n",
    "print(my_dog.age)\n",
    "print(my_dog.color)\n",
    "print(my_dog.breed)"
   ],
   "execution_count":22,
   "outputs":[
    {
     "name":"stdout",
     "text":[
      "xo\n",
      "4\n",
      "Brown\n",
      "French Bulldog\n"
     ],
     "output_type":"stream"
    }
   ],
   "metadata":{
    "datalore":{
     "node_id":"lylAzmGkIMzdmJy5Cxph5I",
     "type":"CODE",
     "hide_input_from_viewers":true,
     "hide_output_from_viewers":true
    }
   }
  },
  {
   "cell_type":"markdown",
   "source":[
    "### function ( Dog methods )"
   ],
   "attachments":{
    
   },
   "metadata":{
    "datalore":{
     "node_id":"kZUeVi8WUqykx1P9b0WcNI",
     "type":"MD",
     "hide_input_from_viewers":true,
     "hide_output_from_viewers":true
    }
   }
  },
  {
   "cell_type":"code",
   "source":[
    "my_dog.sitting()"
   ],
   "execution_count":29,
   "outputs":[
    {
     "name":"stdout",
     "text":[
      "I am sitting now! \n"
     ],
     "output_type":"stream"
    }
   ],
   "metadata":{
    "datalore":{
     "node_id":"paiLxt3T3OoNWIhQOI4ms8",
     "type":"CODE",
     "hide_input_from_viewers":true,
     "hide_output_from_viewers":true
    }
   }
  },
  {
   "cell_type":"code",
   "source":[
    "my_dog.hungry()"
   ],
   "execution_count":4,
   "outputs":[
    {
     "name":"stdout",
     "text":[
      "I am hungry, I need food!\n"
     ],
     "output_type":"stream"
    }
   ],
   "metadata":{
    "datalore":{
     "node_id":"v190Co3OdsnG71SP8KtPH1",
     "type":"CODE",
     "hide_input_from_viewers":true,
     "hide_output_from_viewers":true
    }
   }
  },
  {
   "cell_type":"markdown",
   "source":[
    "##### function ของ my_dog methods มี2 function เเล้ว\n",
    "\n",
    "### ต่อไปคือการตั้งรับ input"
   ],
   "attachments":{
    
   },
   "metadata":{
    "datalore":{
     "node_id":"WoJmWtoi4NnjsYqe5Wfh9F",
     "type":"MD",
     "hide_input_from_viewers":true,
     "hide_output_from_viewers":true
    }
   }
  },
  {
   "cell_type":"code",
   "source":[
    "my_dog.hungry1(\"Hotdog\")"
   ],
   "execution_count":12,
   "outputs":[
    {
     "name":"stdout",
     "text":[
      "I am hungry, I need Hotdog!\n"
     ],
     "output_type":"stream"
    }
   ],
   "metadata":{
    "datalore":{
     "node_id":"H6p6Uop0S1K2PVKrGg7yCQ",
     "type":"CODE",
     "hide_input_from_viewers":true,
     "hide_output_from_viewers":true
    }
   }
  },
  {
   "cell_type":"code",
   "source":[
    
   ],
   "execution_count":null,
   "outputs":[
    
   ],
   "metadata":{
    "datalore":{
     "node_id":"MSNIaIja9a3CWs1XbYNStS",
     "type":"CODE",
     "hide_input_from_viewers":true,
     "hide_output_from_viewers":true
    }
   }
  }
 ],
 "metadata":{
  "kernelspec":{
   "display_name":"Python",
   "language":"python",
   "name":"python"
  },
  "datalore":{
   "computation_mode":"JUPYTER",
   "package_manager":"pip",
   "base_environment":"default",
   "packages":[
    
   ],
   "report_row_ids":[
    
   ],
   "version":3
  }
 },
 "nbformat":4,
 "nbformat_minor":4
}