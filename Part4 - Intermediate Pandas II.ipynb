{
 "cells":[
  {
   "cell_type":"code",
   "source":[
    "import pandas as pd"
   ],
   "execution_count":2,
   "outputs":[
    
   ],
   "metadata":{
    "datalore":{
     "node_id":"T9c9bUdaTR4gFZBdlTjk5b",
     "type":"CODE",
     "hide_input_from_viewers":true,
     "hide_output_from_viewers":true
    }
   }
  },
  {
   "cell_type":"code",
   "source":[
    "penguins = pd.read_csv(\"penguins.csv\")"
   ],
   "execution_count":3,
   "outputs":[
    
   ],
   "metadata":{
    "datalore":{
     "node_id":"CXwWphVq1EPBqN8ZKAKpXw",
     "type":"CODE",
     "hide_input_from_viewers":true,
     "hide_output_from_viewers":true
    }
   }
  },
  {
   "cell_type":"markdown",
   "source":[
    "## Describe !!!"
   ],
   "attachments":{
    
   },
   "metadata":{
    "datalore":{
     "node_id":"Y4Zz9vqev2AE2lT56iIsWD",
     "type":"MD",
     "hide_input_from_viewers":true,
     "hide_output_from_viewers":true
    }
   }
  },
  {
   "cell_type":"code",
   "source":[
    "# summarise dataframe\n",
    "penguins.describe()\n",
    "    # สำหรับสรุปผลทางสถิติทุก columns ที่เป็นตัวเลข"
   ],
   "execution_count":4,
   "outputs":[
    {
     "data":{
      "text\/html":[
       "<div>\n",
       "<style scoped>\n",
       "    .dataframe tbody tr th:only-of-type {\n",
       "        vertical-align: middle;\n",
       "    }\n",
       "\n",
       "    .dataframe tbody tr th {\n",
       "        vertical-align: top;\n",
       "    }\n",
       "\n",
       "    .dataframe thead th {\n",
       "        text-align: right;\n",
       "    }\n",
       "<\/style>\n",
       "<table border=\"1\" class=\"dataframe\">\n",
       "  <thead>\n",
       "    <tr style=\"text-align: right;\">\n",
       "      <th><\/th>\n",
       "      <th>bill_length_mm<\/th>\n",
       "      <th>bill_depth_mm<\/th>\n",
       "      <th>flipper_length_mm<\/th>\n",
       "      <th>body_mass_g<\/th>\n",
       "    <\/tr>\n",
       "  <\/thead>\n",
       "  <tbody>\n",
       "    <tr>\n",
       "      <th>count<\/th>\n",
       "      <td>342.000000<\/td>\n",
       "      <td>342.000000<\/td>\n",
       "      <td>342.000000<\/td>\n",
       "      <td>342.000000<\/td>\n",
       "    <\/tr>\n",
       "    <tr>\n",
       "      <th>mean<\/th>\n",
       "      <td>43.921930<\/td>\n",
       "      <td>17.151170<\/td>\n",
       "      <td>200.915205<\/td>\n",
       "      <td>4201.754386<\/td>\n",
       "    <\/tr>\n",
       "    <tr>\n",
       "      <th>std<\/th>\n",
       "      <td>5.459584<\/td>\n",
       "      <td>1.974793<\/td>\n",
       "      <td>14.061714<\/td>\n",
       "      <td>801.954536<\/td>\n",
       "    <\/tr>\n",
       "    <tr>\n",
       "      <th>min<\/th>\n",
       "      <td>32.100000<\/td>\n",
       "      <td>13.100000<\/td>\n",
       "      <td>172.000000<\/td>\n",
       "      <td>2700.000000<\/td>\n",
       "    <\/tr>\n",
       "    <tr>\n",
       "      <th>25%<\/th>\n",
       "      <td>39.225000<\/td>\n",
       "      <td>15.600000<\/td>\n",
       "      <td>190.000000<\/td>\n",
       "      <td>3550.000000<\/td>\n",
       "    <\/tr>\n",
       "    <tr>\n",
       "      <th>50%<\/th>\n",
       "      <td>44.450000<\/td>\n",
       "      <td>17.300000<\/td>\n",
       "      <td>197.000000<\/td>\n",
       "      <td>4050.000000<\/td>\n",
       "    <\/tr>\n",
       "    <tr>\n",
       "      <th>75%<\/th>\n",
       "      <td>48.500000<\/td>\n",
       "      <td>18.700000<\/td>\n",
       "      <td>213.000000<\/td>\n",
       "      <td>4750.000000<\/td>\n",
       "    <\/tr>\n",
       "    <tr>\n",
       "      <th>max<\/th>\n",
       "      <td>59.600000<\/td>\n",
       "      <td>21.500000<\/td>\n",
       "      <td>231.000000<\/td>\n",
       "      <td>6300.000000<\/td>\n",
       "    <\/tr>\n",
       "  <\/tbody>\n",
       "<\/table>\n",
       "<\/div>"
      ]
     },
     "metadata":{
      
     },
     "output_type":"display_data"
    }
   ],
   "metadata":{
    "datalore":{
     "node_id":"VkzUjKddsglTd3QFpNBVcs",
     "type":"CODE",
     "hide_input_from_viewers":true,
     "hide_output_from_viewers":true
    }
   }
  },
  {
   "cell_type":"code",
   "source":[
    "# สรุปผลทุก columns รวมทั้งที่เป็นตัวหนังสือด้วย\n",
    "penguins.describe(include='all')"
   ],
   "execution_count":5,
   "outputs":[
    {
     "data":{
      "text\/html":[
       "<div>\n",
       "<style scoped>\n",
       "    .dataframe tbody tr th:only-of-type {\n",
       "        vertical-align: middle;\n",
       "    }\n",
       "\n",
       "    .dataframe tbody tr th {\n",
       "        vertical-align: top;\n",
       "    }\n",
       "\n",
       "    .dataframe thead th {\n",
       "        text-align: right;\n",
       "    }\n",
       "<\/style>\n",
       "<table border=\"1\" class=\"dataframe\">\n",
       "  <thead>\n",
       "    <tr style=\"text-align: right;\">\n",
       "      <th><\/th>\n",
       "      <th>species<\/th>\n",
       "      <th>island<\/th>\n",
       "      <th>bill_length_mm<\/th>\n",
       "      <th>bill_depth_mm<\/th>\n",
       "      <th>flipper_length_mm<\/th>\n",
       "      <th>body_mass_g<\/th>\n",
       "      <th>sex<\/th>\n",
       "    <\/tr>\n",
       "  <\/thead>\n",
       "  <tbody>\n",
       "    <tr>\n",
       "      <th>count<\/th>\n",
       "      <td>344<\/td>\n",
       "      <td>344<\/td>\n",
       "      <td>342.000000<\/td>\n",
       "      <td>342.000000<\/td>\n",
       "      <td>342.000000<\/td>\n",
       "      <td>342.000000<\/td>\n",
       "      <td>333<\/td>\n",
       "    <\/tr>\n",
       "    <tr>\n",
       "      <th>unique<\/th>\n",
       "      <td>3<\/td>\n",
       "      <td>3<\/td>\n",
       "      <td>NaN<\/td>\n",
       "      <td>NaN<\/td>\n",
       "      <td>NaN<\/td>\n",
       "      <td>NaN<\/td>\n",
       "      <td>2<\/td>\n",
       "    <\/tr>\n",
       "    <tr>\n",
       "      <th>top<\/th>\n",
       "      <td>Adelie<\/td>\n",
       "      <td>Biscoe<\/td>\n",
       "      <td>NaN<\/td>\n",
       "      <td>NaN<\/td>\n",
       "      <td>NaN<\/td>\n",
       "      <td>NaN<\/td>\n",
       "      <td>MALE<\/td>\n",
       "    <\/tr>\n",
       "    <tr>\n",
       "      <th>freq<\/th>\n",
       "      <td>152<\/td>\n",
       "      <td>168<\/td>\n",
       "      <td>NaN<\/td>\n",
       "      <td>NaN<\/td>\n",
       "      <td>NaN<\/td>\n",
       "      <td>NaN<\/td>\n",
       "      <td>168<\/td>\n",
       "    <\/tr>\n",
       "    <tr>\n",
       "      <th>mean<\/th>\n",
       "      <td>NaN<\/td>\n",
       "      <td>NaN<\/td>\n",
       "      <td>43.921930<\/td>\n",
       "      <td>17.151170<\/td>\n",
       "      <td>200.915205<\/td>\n",
       "      <td>4201.754386<\/td>\n",
       "      <td>NaN<\/td>\n",
       "    <\/tr>\n",
       "    <tr>\n",
       "      <th>std<\/th>\n",
       "      <td>NaN<\/td>\n",
       "      <td>NaN<\/td>\n",
       "      <td>5.459584<\/td>\n",
       "      <td>1.974793<\/td>\n",
       "      <td>14.061714<\/td>\n",
       "      <td>801.954536<\/td>\n",
       "      <td>NaN<\/td>\n",
       "    <\/tr>\n",
       "    <tr>\n",
       "      <th>min<\/th>\n",
       "      <td>NaN<\/td>\n",
       "      <td>NaN<\/td>\n",
       "      <td>32.100000<\/td>\n",
       "      <td>13.100000<\/td>\n",
       "      <td>172.000000<\/td>\n",
       "      <td>2700.000000<\/td>\n",
       "      <td>NaN<\/td>\n",
       "    <\/tr>\n",
       "    <tr>\n",
       "      <th>25%<\/th>\n",
       "      <td>NaN<\/td>\n",
       "      <td>NaN<\/td>\n",
       "      <td>39.225000<\/td>\n",
       "      <td>15.600000<\/td>\n",
       "      <td>190.000000<\/td>\n",
       "      <td>3550.000000<\/td>\n",
       "      <td>NaN<\/td>\n",
       "    <\/tr>\n",
       "    <tr>\n",
       "      <th>50%<\/th>\n",
       "      <td>NaN<\/td>\n",
       "      <td>NaN<\/td>\n",
       "      <td>44.450000<\/td>\n",
       "      <td>17.300000<\/td>\n",
       "      <td>197.000000<\/td>\n",
       "      <td>4050.000000<\/td>\n",
       "      <td>NaN<\/td>\n",
       "    <\/tr>\n",
       "    <tr>\n",
       "      <th>75%<\/th>\n",
       "      <td>NaN<\/td>\n",
       "      <td>NaN<\/td>\n",
       "      <td>48.500000<\/td>\n",
       "      <td>18.700000<\/td>\n",
       "      <td>213.000000<\/td>\n",
       "      <td>4750.000000<\/td>\n",
       "      <td>NaN<\/td>\n",
       "    <\/tr>\n",
       "    <tr>\n",
       "      <th>max<\/th>\n",
       "      <td>NaN<\/td>\n",
       "      <td>NaN<\/td>\n",
       "      <td>59.600000<\/td>\n",
       "      <td>21.500000<\/td>\n",
       "      <td>231.000000<\/td>\n",
       "      <td>6300.000000<\/td>\n",
       "      <td>NaN<\/td>\n",
       "    <\/tr>\n",
       "  <\/tbody>\n",
       "<\/table>\n",
       "<\/div>"
      ]
     },
     "metadata":{
      
     },
     "output_type":"display_data"
    }
   ],
   "metadata":{
    "datalore":{
     "node_id":"r4on9LHKNwYqslTk8Fruyt",
     "type":"CODE",
     "hide_input_from_viewers":true,
     "hide_output_from_viewers":true
    }
   }
  },
  {
   "cell_type":"code",
   "source":[
    "# วิธีหา Mean ของค่าที่เราต้องการ \n",
    "penguins['bill_length_mm'].mean()"
   ],
   "execution_count":6,
   "outputs":[
    {
     "data":{
      "text\/plain":[
       "43.9219298245614"
      ]
     },
     "metadata":{
      
     },
     "output_type":"display_data"
    }
   ],
   "metadata":{
    "datalore":{
     "node_id":"Lyu4ir0rzOlTDLbK7iJeZz",
     "type":"CODE",
     "hide_input_from_viewers":true,
     "hide_output_from_viewers":true
    }
   }
  },
  {
   "cell_type":"markdown",
   "source":[
    "## Group by"
   ],
   "attachments":{
    
   },
   "metadata":{
    "datalore":{
     "node_id":"XUBIUb5UoeFq5Vyzd2tPPU",
     "type":"MD",
     "hide_input_from_viewers":true,
     "hide_output_from_viewers":true
    }
   }
  },
  {
   "cell_type":"markdown",
   "source":[
    "### Group by + sum\/mean"
   ],
   "attachments":{
    
   },
   "metadata":{
    "datalore":{
     "node_id":"3cEcpUT9FyaL4vv6mnbrKq",
     "type":"MD",
     "hide_input_from_viewers":true,
     "hide_output_from_viewers":true
    }
   }
  },
  {
   "cell_type":"code",
   "source":[
    "# filter \n",
    "# ลองเเบบไม่ใช้ Group by \n",
    "# เเยกเเต่ละสายพันธุ์ก่อน เเล้วค่อยมาหาค่าเฉลี่ย ช้า!!!\n",
    "penguins[penguins['species'] == 'Adelie']['bill_length_mm'].mean()"
   ],
   "execution_count":7,
   "outputs":[
    {
     "data":{
      "text\/plain":[
       "38.79139072847682"
      ]
     },
     "metadata":{
      
     },
     "output_type":"display_data"
    }
   ],
   "metadata":{
    "datalore":{
     "node_id":"VWqbGgGRXdgZ5sfZ31Ym3e",
     "type":"CODE",
     "hide_input_from_viewers":true,
     "hide_output_from_viewers":true
    }
   }
  },
  {
   "cell_type":"code",
   "source":[
    "# Group by \n",
    "penguins.groupby('species')['bill_length_mm'].mean()\n",
    "#penguins.groupby('species')['bill_length_mm'].sum()\n",
    "#penguins.groupby('species')['bill_length_mm'].mediam()"
   ],
   "execution_count":8,
   "outputs":[
    {
     "data":{
      "text\/html":[
       "<pre>species\n",
       "Adelie       38.791391\n",
       "Chinstrap    48.833824\n",
       "Gentoo       47.504878\n",
       "Name: bill_length_mm, dtype: float64<\/pre>"
      ]
     },
     "metadata":{
      
     },
     "output_type":"display_data"
    }
   ],
   "metadata":{
    "datalore":{
     "node_id":"FkBqrzBQggyAKdT3uaCRJk",
     "type":"CODE",
     "hide_input_from_viewers":true,
     "hide_output_from_viewers":true
    }
   }
  },
  {
   "cell_type":"markdown",
   "source":[
    "## Group by aggregation !!!\n",
    "คือการที่ใส่ตัว function หรือค่าสถิติ มากกว่า1ตัวได้"
   ],
   "attachments":{
    
   },
   "metadata":{
    "datalore":{
     "node_id":"FxSjWU79bTgLAMBLf7TBKN",
     "type":"MD",
     "hide_input_from_viewers":true,
     "hide_output_from_viewers":true
    }
   }
  },
  {
   "cell_type":"code",
   "source":[
    "penguins.groupby('species')['bill_length_mm'].agg(['min','mean','median','std','max'])"
   ],
   "execution_count":9,
   "outputs":[
    {
     "data":{
      "text\/html":[
       "<div>\n",
       "<style scoped>\n",
       "    .dataframe tbody tr th:only-of-type {\n",
       "        vertical-align: middle;\n",
       "    }\n",
       "\n",
       "    .dataframe tbody tr th {\n",
       "        vertical-align: top;\n",
       "    }\n",
       "\n",
       "    .dataframe thead th {\n",
       "        text-align: right;\n",
       "    }\n",
       "<\/style>\n",
       "<table border=\"1\" class=\"dataframe\">\n",
       "  <thead>\n",
       "    <tr style=\"text-align: right;\">\n",
       "      <th><\/th>\n",
       "      <th>min<\/th>\n",
       "      <th>mean<\/th>\n",
       "      <th>median<\/th>\n",
       "      <th>std<\/th>\n",
       "      <th>max<\/th>\n",
       "    <\/tr>\n",
       "    <tr>\n",
       "      <th>species<\/th>\n",
       "      <th><\/th>\n",
       "      <th><\/th>\n",
       "      <th><\/th>\n",
       "      <th><\/th>\n",
       "      <th><\/th>\n",
       "    <\/tr>\n",
       "  <\/thead>\n",
       "  <tbody>\n",
       "    <tr>\n",
       "      <th>Adelie<\/th>\n",
       "      <td>32.1<\/td>\n",
       "      <td>38.791391<\/td>\n",
       "      <td>38.80<\/td>\n",
       "      <td>2.663405<\/td>\n",
       "      <td>46.0<\/td>\n",
       "    <\/tr>\n",
       "    <tr>\n",
       "      <th>Chinstrap<\/th>\n",
       "      <td>40.9<\/td>\n",
       "      <td>48.833824<\/td>\n",
       "      <td>49.55<\/td>\n",
       "      <td>3.339256<\/td>\n",
       "      <td>58.0<\/td>\n",
       "    <\/tr>\n",
       "    <tr>\n",
       "      <th>Gentoo<\/th>\n",
       "      <td>40.9<\/td>\n",
       "      <td>47.504878<\/td>\n",
       "      <td>47.30<\/td>\n",
       "      <td>3.081857<\/td>\n",
       "      <td>59.6<\/td>\n",
       "    <\/tr>\n",
       "  <\/tbody>\n",
       "<\/table>\n",
       "<\/div>"
      ]
     },
     "metadata":{
      
     },
     "output_type":"display_data"
    }
   ],
   "metadata":{
    "datalore":{
     "node_id":"kdfIOj0lAtWNBNvKtqz7JA",
     "type":"CODE",
     "hide_input_from_viewers":true,
     "hide_output_from_viewers":true
    }
   }
  },
  {
   "cell_type":"markdown",
   "source":[
    "### group by more than one columns"
   ],
   "attachments":{
    
   },
   "metadata":{
    "datalore":{
     "node_id":"9E6zFP1i6g8z4BVZSaiFbd",
     "type":"MD",
     "hide_input_from_viewers":true,
     "hide_output_from_viewers":true
    }
   }
  },
  {
   "cell_type":"code",
   "source":[
    "penguins.groupby(['island','species'])['bill_length_mm'].agg(['min', 'mean','max'])"
   ],
   "execution_count":10,
   "outputs":[
    {
     "data":{
      "text\/html":[
       "<div>\n",
       "<style scoped>\n",
       "    .dataframe tbody tr th:only-of-type {\n",
       "        vertical-align: middle;\n",
       "    }\n",
       "\n",
       "    .dataframe tbody tr th {\n",
       "        vertical-align: top;\n",
       "    }\n",
       "\n",
       "    .dataframe thead th {\n",
       "        text-align: right;\n",
       "    }\n",
       "<\/style>\n",
       "<table border=\"1\" class=\"dataframe\">\n",
       "  <thead>\n",
       "    <tr style=\"text-align: right;\">\n",
       "      <th><\/th>\n",
       "      <th><\/th>\n",
       "      <th>min<\/th>\n",
       "      <th>mean<\/th>\n",
       "      <th>max<\/th>\n",
       "    <\/tr>\n",
       "    <tr>\n",
       "      <th>island<\/th>\n",
       "      <th>species<\/th>\n",
       "      <th><\/th>\n",
       "      <th><\/th>\n",
       "      <th><\/th>\n",
       "    <\/tr>\n",
       "  <\/thead>\n",
       "  <tbody>\n",
       "    <tr>\n",
       "      <th rowspan=\"2\" valign=\"top\">Biscoe<\/th>\n",
       "      <th>Adelie<\/th>\n",
       "      <td>34.5<\/td>\n",
       "      <td>38.975000<\/td>\n",
       "      <td>45.6<\/td>\n",
       "    <\/tr>\n",
       "    <tr>\n",
       "      <th>Gentoo<\/th>\n",
       "      <td>40.9<\/td>\n",
       "      <td>47.504878<\/td>\n",
       "      <td>59.6<\/td>\n",
       "    <\/tr>\n",
       "    <tr>\n",
       "      <th rowspan=\"2\" valign=\"top\">Dream<\/th>\n",
       "      <th>Adelie<\/th>\n",
       "      <td>32.1<\/td>\n",
       "      <td>38.501786<\/td>\n",
       "      <td>44.1<\/td>\n",
       "    <\/tr>\n",
       "    <tr>\n",
       "      <th>Chinstrap<\/th>\n",
       "      <td>40.9<\/td>\n",
       "      <td>48.833824<\/td>\n",
       "      <td>58.0<\/td>\n",
       "    <\/tr>\n",
       "    <tr>\n",
       "      <th>Torgersen<\/th>\n",
       "      <th>Adelie<\/th>\n",
       "      <td>33.5<\/td>\n",
       "      <td>38.950980<\/td>\n",
       "      <td>46.0<\/td>\n",
       "    <\/tr>\n",
       "  <\/tbody>\n",
       "<\/table>\n",
       "<\/div>"
      ]
     },
     "metadata":{
      
     },
     "output_type":"display_data"
    }
   ],
   "metadata":{
    "datalore":{
     "node_id":"tdYGCn9AAlYoM8bA7DFJVS",
     "type":"CODE",
     "hide_input_from_viewers":true,
     "hide_output_from_viewers":true
    }
   }
  },
  {
   "cell_type":"code",
   "source":[
    "# ถ้าไม่ชอบการเรียง index \n",
    "penguins.groupby(['island','species'])['bill_length_mm'].agg(['min', 'mean','max']).reset_index()\n",
    "# ส่วนตัวชอบเเบบเดิมมากกว่า (ด้านบน)"
   ],
   "execution_count":11,
   "outputs":[
    {
     "data":{
      "text\/html":[
       "<div>\n",
       "<style scoped>\n",
       "    .dataframe tbody tr th:only-of-type {\n",
       "        vertical-align: middle;\n",
       "    }\n",
       "\n",
       "    .dataframe tbody tr th {\n",
       "        vertical-align: top;\n",
       "    }\n",
       "\n",
       "    .dataframe thead th {\n",
       "        text-align: right;\n",
       "    }\n",
       "<\/style>\n",
       "<table border=\"1\" class=\"dataframe\">\n",
       "  <thead>\n",
       "    <tr style=\"text-align: right;\">\n",
       "      <th><\/th>\n",
       "      <th>island<\/th>\n",
       "      <th>species<\/th>\n",
       "      <th>min<\/th>\n",
       "      <th>mean<\/th>\n",
       "      <th>max<\/th>\n",
       "    <\/tr>\n",
       "  <\/thead>\n",
       "  <tbody>\n",
       "    <tr>\n",
       "      <th>0<\/th>\n",
       "      <td>Biscoe<\/td>\n",
       "      <td>Adelie<\/td>\n",
       "      <td>34.5<\/td>\n",
       "      <td>38.975000<\/td>\n",
       "      <td>45.6<\/td>\n",
       "    <\/tr>\n",
       "    <tr>\n",
       "      <th>1<\/th>\n",
       "      <td>Biscoe<\/td>\n",
       "      <td>Gentoo<\/td>\n",
       "      <td>40.9<\/td>\n",
       "      <td>47.504878<\/td>\n",
       "      <td>59.6<\/td>\n",
       "    <\/tr>\n",
       "    <tr>\n",
       "      <th>2<\/th>\n",
       "      <td>Dream<\/td>\n",
       "      <td>Adelie<\/td>\n",
       "      <td>32.1<\/td>\n",
       "      <td>38.501786<\/td>\n",
       "      <td>44.1<\/td>\n",
       "    <\/tr>\n",
       "    <tr>\n",
       "      <th>3<\/th>\n",
       "      <td>Dream<\/td>\n",
       "      <td>Chinstrap<\/td>\n",
       "      <td>40.9<\/td>\n",
       "      <td>48.833824<\/td>\n",
       "      <td>58.0<\/td>\n",
       "    <\/tr>\n",
       "    <tr>\n",
       "      <th>4<\/th>\n",
       "      <td>Torgersen<\/td>\n",
       "      <td>Adelie<\/td>\n",
       "      <td>33.5<\/td>\n",
       "      <td>38.950980<\/td>\n",
       "      <td>46.0<\/td>\n",
       "    <\/tr>\n",
       "  <\/tbody>\n",
       "<\/table>\n",
       "<\/div>"
      ]
     },
     "metadata":{
      
     },
     "output_type":"display_data"
    }
   ],
   "metadata":{
    "datalore":{
     "node_id":"aM8y8IS6MRt9mgivESKEgH",
     "type":"CODE",
     "hide_input_from_viewers":true,
     "hide_output_from_viewers":true
    }
   }
  },
  {
   "cell_type":"code",
   "source":[
    "# ฝากค่า เเละ ทำเป็นไฟล์ csv เพื่อส่งต่อให้คนอื่นได้\n",
    "#result = penguins.groupby(['island','species'])['bill_length_mm'].agg(['min', 'mean','max'])\n",
    "#result.to_csv('result.csv')"
   ],
   "execution_count":12,
   "outputs":[
    
   ],
   "metadata":{
    "datalore":{
     "node_id":"r4vlP2F2x23jv9g8Q81mnA",
     "type":"CODE",
     "hide_input_from_viewers":true,
     "hide_output_from_viewers":true
    }
   }
  },
  {
   "cell_type":"markdown",
   "source":[
    "## If your code is long\n",
    "เทคนิคง่ายๆ สำหรับการขึ้นบรรทัดใหม่ เวลาที่โค้ดเรายาวมากๆ\n",
    "- การใช้เครื่องหมาย black slate ( \\ )"
   ],
   "attachments":{
    
   },
   "metadata":{
    "datalore":{
     "node_id":"tWGs9r2gpl1BihYPN9igHj",
     "type":"MD",
     "hide_input_from_viewers":true,
     "hide_output_from_viewers":true
    }
   }
  },
  {
   "cell_type":"code",
   "source":[
    "penguins.groupby(['island','species'])['bill_length_mm'] \\\n",
    "    .agg(['min', 'mean','max']).reset_index()"
   ],
   "execution_count":13,
   "outputs":[
    {
     "data":{
      "text\/html":[
       "<div>\n",
       "<style scoped>\n",
       "    .dataframe tbody tr th:only-of-type {\n",
       "        vertical-align: middle;\n",
       "    }\n",
       "\n",
       "    .dataframe tbody tr th {\n",
       "        vertical-align: top;\n",
       "    }\n",
       "\n",
       "    .dataframe thead th {\n",
       "        text-align: right;\n",
       "    }\n",
       "<\/style>\n",
       "<table border=\"1\" class=\"dataframe\">\n",
       "  <thead>\n",
       "    <tr style=\"text-align: right;\">\n",
       "      <th><\/th>\n",
       "      <th>island<\/th>\n",
       "      <th>species<\/th>\n",
       "      <th>min<\/th>\n",
       "      <th>mean<\/th>\n",
       "      <th>max<\/th>\n",
       "    <\/tr>\n",
       "  <\/thead>\n",
       "  <tbody>\n",
       "    <tr>\n",
       "      <th>0<\/th>\n",
       "      <td>Biscoe<\/td>\n",
       "      <td>Adelie<\/td>\n",
       "      <td>34.5<\/td>\n",
       "      <td>38.975000<\/td>\n",
       "      <td>45.6<\/td>\n",
       "    <\/tr>\n",
       "    <tr>\n",
       "      <th>1<\/th>\n",
       "      <td>Biscoe<\/td>\n",
       "      <td>Gentoo<\/td>\n",
       "      <td>40.9<\/td>\n",
       "      <td>47.504878<\/td>\n",
       "      <td>59.6<\/td>\n",
       "    <\/tr>\n",
       "    <tr>\n",
       "      <th>2<\/th>\n",
       "      <td>Dream<\/td>\n",
       "      <td>Adelie<\/td>\n",
       "      <td>32.1<\/td>\n",
       "      <td>38.501786<\/td>\n",
       "      <td>44.1<\/td>\n",
       "    <\/tr>\n",
       "    <tr>\n",
       "      <th>3<\/th>\n",
       "      <td>Dream<\/td>\n",
       "      <td>Chinstrap<\/td>\n",
       "      <td>40.9<\/td>\n",
       "      <td>48.833824<\/td>\n",
       "      <td>58.0<\/td>\n",
       "    <\/tr>\n",
       "    <tr>\n",
       "      <th>4<\/th>\n",
       "      <td>Torgersen<\/td>\n",
       "      <td>Adelie<\/td>\n",
       "      <td>33.5<\/td>\n",
       "      <td>38.950980<\/td>\n",
       "      <td>46.0<\/td>\n",
       "    <\/tr>\n",
       "  <\/tbody>\n",
       "<\/table>\n",
       "<\/div>"
      ]
     },
     "metadata":{
      
     },
     "output_type":"display_data"
    }
   ],
   "metadata":{
    "datalore":{
     "node_id":"kc0Yr1rcs8P0TO9MCgopHs",
     "type":"CODE",
     "hide_input_from_viewers":true,
     "hide_output_from_viewers":true
    }
   }
  },
  {
   "cell_type":"markdown",
   "source":[
    "## Map !!!\n",
    "mapping value"
   ],
   "attachments":{
    
   },
   "metadata":{
    "datalore":{
     "node_id":"4wxLuXQrrRTXYMgEi3MNrI",
     "type":"MD",
     "hide_input_from_viewers":true,
     "hide_output_from_viewers":true
    }
   }
  },
  {
   "cell_type":"code",
   "source":[
    "# map value จาก MALE: m ; FEMALE:f\n",
    "#penguins['sex'].head()\n",
    "# ภายใน map จะรับเป็น dictionary ของ (ค่าเก่า: ค่าใหม่)\n",
    "penguins['sex'].map( {'MALE': 'm','FEMALE': 'f'} ).head(10).fillna('other') \n",
    "    # .fillna() การเเทนที่ค่า nan หรือ missing value ด้วย ()"
   ],
   "execution_count":14,
   "outputs":[
    {
     "data":{
      "text\/html":[
       "<pre>0        m\n",
       "1        f\n",
       "2        f\n",
       "3    other\n",
       "4        f\n",
       "5        m\n",
       "6        f\n",
       "7        m\n",
       "8    other\n",
       "9    other\n",
       "Name: sex, dtype: object<\/pre>"
      ]
     },
     "metadata":{
      
     },
     "output_type":"display_data"
    }
   ],
   "metadata":{
    "datalore":{
     "node_id":"5Ee0JPcNiYTHw7JyBHZxzi",
     "type":"CODE",
     "hide_input_from_viewers":true,
     "hide_output_from_viewers":true
    }
   }
  },
  {
   "cell_type":"code",
   "source":[
    "# สร้าง columns ใหม่เเทนเก่าได้เลย\n",
    "penguins['sex_new'] = penguins['sex'].map( {'MALE': 'm','FEMALE': 'f'} ).fillna('other')"
   ],
   "execution_count":15,
   "outputs":[
    
   ],
   "metadata":{
    "datalore":{
     "node_id":"7rDmK5TgGJAVg3ORhanB1x",
     "type":"CODE",
     "hide_input_from_viewers":true,
     "hide_output_from_viewers":true
    }
   }
  },
  {
   "cell_type":"code",
   "source":[
    "penguins.head()"
   ],
   "execution_count":16,
   "outputs":[
    {
     "data":{
      "text\/html":[
       "<div>\n",
       "<style scoped>\n",
       "    .dataframe tbody tr th:only-of-type {\n",
       "        vertical-align: middle;\n",
       "    }\n",
       "\n",
       "    .dataframe tbody tr th {\n",
       "        vertical-align: top;\n",
       "    }\n",
       "\n",
       "    .dataframe thead th {\n",
       "        text-align: right;\n",
       "    }\n",
       "<\/style>\n",
       "<table border=\"1\" class=\"dataframe\">\n",
       "  <thead>\n",
       "    <tr style=\"text-align: right;\">\n",
       "      <th><\/th>\n",
       "      <th>species<\/th>\n",
       "      <th>island<\/th>\n",
       "      <th>bill_length_mm<\/th>\n",
       "      <th>bill_depth_mm<\/th>\n",
       "      <th>flipper_length_mm<\/th>\n",
       "      <th>body_mass_g<\/th>\n",
       "      <th>sex<\/th>\n",
       "      <th>sex_new<\/th>\n",
       "    <\/tr>\n",
       "  <\/thead>\n",
       "  <tbody>\n",
       "    <tr>\n",
       "      <th>0<\/th>\n",
       "      <td>Adelie<\/td>\n",
       "      <td>Torgersen<\/td>\n",
       "      <td>39.1<\/td>\n",
       "      <td>18.7<\/td>\n",
       "      <td>181.0<\/td>\n",
       "      <td>3750.0<\/td>\n",
       "      <td>MALE<\/td>\n",
       "      <td>m<\/td>\n",
       "    <\/tr>\n",
       "    <tr>\n",
       "      <th>1<\/th>\n",
       "      <td>Adelie<\/td>\n",
       "      <td>Torgersen<\/td>\n",
       "      <td>39.5<\/td>\n",
       "      <td>17.4<\/td>\n",
       "      <td>186.0<\/td>\n",
       "      <td>3800.0<\/td>\n",
       "      <td>FEMALE<\/td>\n",
       "      <td>f<\/td>\n",
       "    <\/tr>\n",
       "    <tr>\n",
       "      <th>2<\/th>\n",
       "      <td>Adelie<\/td>\n",
       "      <td>Torgersen<\/td>\n",
       "      <td>40.3<\/td>\n",
       "      <td>18.0<\/td>\n",
       "      <td>195.0<\/td>\n",
       "      <td>3250.0<\/td>\n",
       "      <td>FEMALE<\/td>\n",
       "      <td>f<\/td>\n",
       "    <\/tr>\n",
       "    <tr>\n",
       "      <th>3<\/th>\n",
       "      <td>Adelie<\/td>\n",
       "      <td>Torgersen<\/td>\n",
       "      <td>NaN<\/td>\n",
       "      <td>NaN<\/td>\n",
       "      <td>NaN<\/td>\n",
       "      <td>NaN<\/td>\n",
       "      <td>NaN<\/td>\n",
       "      <td>other<\/td>\n",
       "    <\/tr>\n",
       "    <tr>\n",
       "      <th>4<\/th>\n",
       "      <td>Adelie<\/td>\n",
       "      <td>Torgersen<\/td>\n",
       "      <td>36.7<\/td>\n",
       "      <td>19.3<\/td>\n",
       "      <td>193.0<\/td>\n",
       "      <td>3450.0<\/td>\n",
       "      <td>FEMALE<\/td>\n",
       "      <td>f<\/td>\n",
       "    <\/tr>\n",
       "  <\/tbody>\n",
       "<\/table>\n",
       "<\/div>"
      ]
     },
     "metadata":{
      
     },
     "output_type":"display_data"
    }
   ],
   "metadata":{
    "datalore":{
     "node_id":"dBg7ic2KLX0rKhSpMoy14e",
     "type":"CODE",
     "hide_input_from_viewers":true,
     "hide_output_from_viewers":true
    }
   }
  },
  {
   "cell_type":"markdown",
   "source":[
    "## Numpy"
   ],
   "attachments":{
    
   },
   "metadata":{
    "datalore":{
     "node_id":"JuaWFDuxtcZBrBqgaE4hJJ",
     "type":"MD",
     "hide_input_from_viewers":true,
     "hide_output_from_viewers":true
    }
   }
  },
  {
   "cell_type":"code",
   "source":[
    "# Pandas function style\n",
    "penguins['bill_length_mm'].mean()"
   ],
   "execution_count":17,
   "outputs":[
    {
     "data":{
      "text\/plain":[
       "43.9219298245614"
      ]
     },
     "metadata":{
      
     },
     "output_type":"display_data"
    }
   ],
   "metadata":{
    "datalore":{
     "node_id":"xrammnoneMtjAL8q5jtkqw",
     "type":"CODE",
     "hide_input_from_viewers":true,
     "hide_output_from_viewers":true
    }
   }
  },
  {
   "cell_type":"code",
   "source":[
    "# Numpy\n",
    "import numpy as np\n",
    "np.mean(penguins['bill_length_mm'])"
   ],
   "execution_count":18,
   "outputs":[
    {
     "data":{
      "text\/plain":[
       "43.9219298245614"
      ]
     },
     "metadata":{
      
     },
     "output_type":"display_data"
    }
   ],
   "metadata":{
    "datalore":{
     "node_id":"Uj0SXdzeIhQYSNPUoXrOir",
     "type":"CODE",
     "hide_input_from_viewers":true,
     "hide_output_from_viewers":true
    }
   }
  },
  {
   "cell_type":"code",
   "source":[
    "# Othec function of numpy\n",
    "print( np.sum(penguins['bill_depth_mm']) )\n",
    "print(np.std(penguins['bill_depth_mm']) )\n",
    "print(np.max(penguins['bill_depth_mm']) )"
   ],
   "execution_count":19,
   "outputs":[
    {
     "name":"stdout",
     "text":[
      "5865.700000000001\n",
      "1.9719039187562526\n",
      "21.5\n"
     ],
     "output_type":"stream"
    }
   ],
   "metadata":{
    "datalore":{
     "node_id":"N1MaAoGiVjNDfXeVJgxDjf",
     "type":"CODE",
     "hide_input_from_viewers":true,
     "hide_output_from_viewers":true
    }
   }
  },
  {
   "cell_type":"markdown",
   "source":[
    "## Numpy.Where\n",
    "เป้น function ที่นิยมมาก"
   ],
   "attachments":{
    
   },
   "metadata":{
    "datalore":{
     "node_id":"2dgaL70bW4LXvXjfm8xgq4",
     "type":"MD",
     "hide_input_from_viewers":true,
     "hide_output_from_viewers":true
    }
   }
  },
  {
   "cell_type":"code",
   "source":[
    "score = pd.Series([80, 55 ,62, 95, 20])"
   ],
   "execution_count":20,
   "outputs":[
    
   ],
   "metadata":{
    "datalore":{
     "node_id":"QdlWaB1BetPNdJxkUxwFpB",
     "type":"CODE",
     "hide_input_from_viewers":true,
     "hide_output_from_viewers":true
    }
   }
  },
  {
   "cell_type":"code",
   "source":[
    "print(score)"
   ],
   "execution_count":21,
   "outputs":[
    {
     "name":"stdout",
     "text":[
      "0    80\n",
      "1    55\n",
      "2    62\n",
      "3    95\n",
      "4    20\n",
      "dtype: int64\n"
     ],
     "output_type":"stream"
    }
   ],
   "metadata":{
    "datalore":{
     "node_id":"6Xy21GDSZ2tHesPeLmUcNU",
     "type":"CODE",
     "hide_input_from_viewers":true,
     "hide_output_from_viewers":true
    }
   }
  },
  {
   "cell_type":"code",
   "source":[
    "grade = np.where(score >= 80, \"passed\", \"failed\")\n",
    "print(grade)"
   ],
   "execution_count":22,
   "outputs":[
    {
     "name":"stdout",
     "text":[
      "['passed' 'failed' 'failed' 'passed' 'failed']\n"
     ],
     "output_type":"stream"
    }
   ],
   "metadata":{
    "datalore":{
     "node_id":"x5sTe67ezz1ftBATrCpTmA",
     "type":"CODE",
     "hide_input_from_viewers":true,
     "hide_output_from_viewers":true
    }
   }
  },
  {
   "cell_type":"code",
   "source":[
    "# ดึงข้อมูลมาเเค่ 3 columns เเรก เลือก 'species' = 'Adelie' มาเเละ drop naทิ้งทั้งหมด\n",
    "df = penguins.query(\"species == 'Adelie' \")[[ 'species', 'island','bill_length_mm']].dropna()\n",
    "df"
   ],
   "execution_count":23,
   "outputs":[
    {
     "data":{
      "text\/html":[
       "<div>\n",
       "<style scoped>\n",
       "    .dataframe tbody tr th:only-of-type {\n",
       "        vertical-align: middle;\n",
       "    }\n",
       "\n",
       "    .dataframe tbody tr th {\n",
       "        vertical-align: top;\n",
       "    }\n",
       "\n",
       "    .dataframe thead th {\n",
       "        text-align: right;\n",
       "    }\n",
       "<\/style>\n",
       "<table border=\"1\" class=\"dataframe\">\n",
       "  <thead>\n",
       "    <tr style=\"text-align: right;\">\n",
       "      <th><\/th>\n",
       "      <th>species<\/th>\n",
       "      <th>island<\/th>\n",
       "      <th>bill_length_mm<\/th>\n",
       "    <\/tr>\n",
       "  <\/thead>\n",
       "  <tbody>\n",
       "    <tr>\n",
       "      <th>0<\/th>\n",
       "      <td>Adelie<\/td>\n",
       "      <td>Torgersen<\/td>\n",
       "      <td>39.1<\/td>\n",
       "    <\/tr>\n",
       "    <tr>\n",
       "      <th>1<\/th>\n",
       "      <td>Adelie<\/td>\n",
       "      <td>Torgersen<\/td>\n",
       "      <td>39.5<\/td>\n",
       "    <\/tr>\n",
       "    <tr>\n",
       "      <th>2<\/th>\n",
       "      <td>Adelie<\/td>\n",
       "      <td>Torgersen<\/td>\n",
       "      <td>40.3<\/td>\n",
       "    <\/tr>\n",
       "    <tr>\n",
       "      <th>4<\/th>\n",
       "      <td>Adelie<\/td>\n",
       "      <td>Torgersen<\/td>\n",
       "      <td>36.7<\/td>\n",
       "    <\/tr>\n",
       "    <tr>\n",
       "      <th>5<\/th>\n",
       "      <td>Adelie<\/td>\n",
       "      <td>Torgersen<\/td>\n",
       "      <td>39.3<\/td>\n",
       "    <\/tr>\n",
       "    <tr>\n",
       "      <th>...<\/th>\n",
       "      <td>...<\/td>\n",
       "      <td>...<\/td>\n",
       "      <td>...<\/td>\n",
       "    <\/tr>\n",
       "    <tr>\n",
       "      <th>147<\/th>\n",
       "      <td>Adelie<\/td>\n",
       "      <td>Dream<\/td>\n",
       "      <td>36.6<\/td>\n",
       "    <\/tr>\n",
       "    <tr>\n",
       "      <th>148<\/th>\n",
       "      <td>Adelie<\/td>\n",
       "      <td>Dream<\/td>\n",
       "      <td>36.0<\/td>\n",
       "    <\/tr>\n",
       "    <tr>\n",
       "      <th>149<\/th>\n",
       "      <td>Adelie<\/td>\n",
       "      <td>Dream<\/td>\n",
       "      <td>37.8<\/td>\n",
       "    <\/tr>\n",
       "    <tr>\n",
       "      <th>150<\/th>\n",
       "      <td>Adelie<\/td>\n",
       "      <td>Dream<\/td>\n",
       "      <td>36.0<\/td>\n",
       "    <\/tr>\n",
       "    <tr>\n",
       "      <th>151<\/th>\n",
       "      <td>Adelie<\/td>\n",
       "      <td>Dream<\/td>\n",
       "      <td>41.5<\/td>\n",
       "    <\/tr>\n",
       "  <\/tbody>\n",
       "<\/table>\n",
       "<p>151 rows × 3 columns<\/p>\n",
       "<\/div>"
      ]
     },
     "metadata":{
      
     },
     "output_type":"display_data"
    }
   ],
   "metadata":{
    "datalore":{
     "node_id":"CGKmeP8fJcXhRuGTXa7LcI",
     "type":"CODE",
     "hide_input_from_viewers":true,
     "hide_output_from_viewers":true
    }
   }
  },
  {
   "cell_type":"code",
   "source":[
    "df['new_columns'] = np.where(df['bill_length_mm']> 40, True,False) # boolean"
   ],
   "execution_count":24,
   "outputs":[
    
   ],
   "metadata":{
    "datalore":{
     "node_id":"wMsomFhF4V89eJclWuQ4P7",
     "type":"CODE",
     "hide_input_from_viewers":true,
     "hide_output_from_viewers":true
    }
   }
  },
  {
   "cell_type":"code",
   "source":[
    "df.head()"
   ],
   "execution_count":25,
   "outputs":[
    {
     "data":{
      "text\/html":[
       "<div>\n",
       "<style scoped>\n",
       "    .dataframe tbody tr th:only-of-type {\n",
       "        vertical-align: middle;\n",
       "    }\n",
       "\n",
       "    .dataframe tbody tr th {\n",
       "        vertical-align: top;\n",
       "    }\n",
       "\n",
       "    .dataframe thead th {\n",
       "        text-align: right;\n",
       "    }\n",
       "<\/style>\n",
       "<table border=\"1\" class=\"dataframe\">\n",
       "  <thead>\n",
       "    <tr style=\"text-align: right;\">\n",
       "      <th><\/th>\n",
       "      <th>species<\/th>\n",
       "      <th>island<\/th>\n",
       "      <th>bill_length_mm<\/th>\n",
       "      <th>new_columns<\/th>\n",
       "    <\/tr>\n",
       "  <\/thead>\n",
       "  <tbody>\n",
       "    <tr>\n",
       "      <th>0<\/th>\n",
       "      <td>Adelie<\/td>\n",
       "      <td>Torgersen<\/td>\n",
       "      <td>39.1<\/td>\n",
       "      <td>False<\/td>\n",
       "    <\/tr>\n",
       "    <tr>\n",
       "      <th>1<\/th>\n",
       "      <td>Adelie<\/td>\n",
       "      <td>Torgersen<\/td>\n",
       "      <td>39.5<\/td>\n",
       "      <td>False<\/td>\n",
       "    <\/tr>\n",
       "    <tr>\n",
       "      <th>2<\/th>\n",
       "      <td>Adelie<\/td>\n",
       "      <td>Torgersen<\/td>\n",
       "      <td>40.3<\/td>\n",
       "      <td>True<\/td>\n",
       "    <\/tr>\n",
       "    <tr>\n",
       "      <th>4<\/th>\n",
       "      <td>Adelie<\/td>\n",
       "      <td>Torgersen<\/td>\n",
       "      <td>36.7<\/td>\n",
       "      <td>False<\/td>\n",
       "    <\/tr>\n",
       "    <tr>\n",
       "      <th>5<\/th>\n",
       "      <td>Adelie<\/td>\n",
       "      <td>Torgersen<\/td>\n",
       "      <td>39.3<\/td>\n",
       "      <td>False<\/td>\n",
       "    <\/tr>\n",
       "  <\/tbody>\n",
       "<\/table>\n",
       "<\/div>"
      ]
     },
     "metadata":{
      
     },
     "output_type":"display_data"
    }
   ],
   "metadata":{
    "datalore":{
     "node_id":"pQsfc4mlwM0zo6snrpjDnt",
     "type":"CODE",
     "hide_input_from_viewers":true,
     "hide_output_from_viewers":true
    }
   }
  },
  {
   "cell_type":"markdown",
   "source":[
    "## Merge or Join"
   ],
   "attachments":{
    
   },
   "metadata":{
    "datalore":{
     "node_id":"icv5KnTeRmLzbMZgdgrCEf",
     "type":"MD",
     "hide_input_from_viewers":true,
     "hide_output_from_viewers":true
    }
   }
  },
  {
   "cell_type":"code",
   "source":[
    "left = {\n",
    "    'key':[1, 2, 3, 4],\n",
    "    'name' :['toy','joe', 'jane', 'anna'],\n",
    "    'age' :[25, 28, 30, 22]\n",
    "}\n",
    "right = {\n",
    "    'key': [1, 2, 3, 4],\n",
    "    'city':['Bangkok', 'London', 'Seoul', 'Yokyo'],\n",
    "    'zip': [1001, 2504, 2094, 9802]\n",
    "}\n",
    "# สร้าง dictionaryขึ้นมา \n",
    "\n",
    "# ใช้ Pandas เปลี่ยนให้เป็น dataframe \n",
    "df_left = pd.DataFrame(left)\n",
    "df_right = pd.DataFrame(right)"
   ],
   "execution_count":26,
   "outputs":[
    
   ],
   "metadata":{
    "datalore":{
     "node_id":"pMtG7lYBa00hr8Dw7nnz3J",
     "type":"CODE",
     "hide_input_from_viewers":true,
     "hide_output_from_viewers":true
    }
   }
  },
  {
   "cell_type":"code",
   "source":[
    "# Merge\n",
    "df_result = pd.merge(df_left, df_right, on='key')\n",
    "\n",
    "df_result"
   ],
   "execution_count":27,
   "outputs":[
    {
     "data":{
      "text\/html":[
       "<div>\n",
       "<style scoped>\n",
       "    .dataframe tbody tr th:only-of-type {\n",
       "        vertical-align: middle;\n",
       "    }\n",
       "\n",
       "    .dataframe tbody tr th {\n",
       "        vertical-align: top;\n",
       "    }\n",
       "\n",
       "    .dataframe thead th {\n",
       "        text-align: right;\n",
       "    }\n",
       "<\/style>\n",
       "<table border=\"1\" class=\"dataframe\">\n",
       "  <thead>\n",
       "    <tr style=\"text-align: right;\">\n",
       "      <th><\/th>\n",
       "      <th>key<\/th>\n",
       "      <th>name<\/th>\n",
       "      <th>age<\/th>\n",
       "      <th>city<\/th>\n",
       "      <th>zip<\/th>\n",
       "    <\/tr>\n",
       "  <\/thead>\n",
       "  <tbody>\n",
       "    <tr>\n",
       "      <th>0<\/th>\n",
       "      <td>1<\/td>\n",
       "      <td>toy<\/td>\n",
       "      <td>25<\/td>\n",
       "      <td>Bangkok<\/td>\n",
       "      <td>1001<\/td>\n",
       "    <\/tr>\n",
       "    <tr>\n",
       "      <th>1<\/th>\n",
       "      <td>2<\/td>\n",
       "      <td>joe<\/td>\n",
       "      <td>28<\/td>\n",
       "      <td>London<\/td>\n",
       "      <td>2504<\/td>\n",
       "    <\/tr>\n",
       "    <tr>\n",
       "      <th>2<\/th>\n",
       "      <td>3<\/td>\n",
       "      <td>jane<\/td>\n",
       "      <td>30<\/td>\n",
       "      <td>Seoul<\/td>\n",
       "      <td>2094<\/td>\n",
       "    <\/tr>\n",
       "    <tr>\n",
       "      <th>3<\/th>\n",
       "      <td>4<\/td>\n",
       "      <td>anna<\/td>\n",
       "      <td>22<\/td>\n",
       "      <td>Yokyo<\/td>\n",
       "      <td>9802<\/td>\n",
       "    <\/tr>\n",
       "  <\/tbody>\n",
       "<\/table>\n",
       "<\/div>"
      ]
     },
     "metadata":{
      
     },
     "output_type":"display_data"
    }
   ],
   "metadata":{
    "datalore":{
     "node_id":"sotw37XIjaKtcUC6JMkS2Y",
     "type":"CODE",
     "hide_input_from_viewers":true,
     "hide_output_from_viewers":true
    }
   }
  },
  {
   "cell_type":"markdown",
   "source":[
    "## Intro to Pandas Plots"
   ],
   "attachments":{
    
   },
   "metadata":{
    "datalore":{
     "node_id":"Hiaptf7zPiEteDSCL7fGSO",
     "type":"MD",
     "hide_input_from_viewers":true,
     "hide_output_from_viewers":true
    }
   }
  },
  {
   "cell_type":"code",
   "source":[
    "# histogram one column\n",
    "penguins['body_mass_g'].plot(kind='hist'); # ;ปิดท้ายเพื่อความสวยงาม # ควรใส่"
   ],
   "execution_count":30,
   "outputs":[
    {
     "data":{
      "image\/png":"[encoded data removed]"
     },
     "metadata":{
      "image\/png":{
       
      }
     },
     "output_type":"display_data"
    }
   ],
   "metadata":{
    "datalore":{
     "node_id":"8El8fvZ2V9blkJzvJai5Cn",
     "type":"CODE",
     "hide_input_from_viewers":true,
     "hide_output_from_viewers":true
    }
   }
  },
  {
   "cell_type":"code",
   "source":[
    "# histogram two columns\n",
    "penguins[['body_mass_g', 'bill_length_mm']].plot(kind= 'hist',bins=30); # ; ใส่เพื่อความสวยงาม"
   ],
   "execution_count":34,
   "outputs":[
    {
     "data":{
      "image\/png":"[encoded data removed]"
     },
     "metadata":{
      "image\/png":{
       
      }
     },
     "output_type":"display_data"
    }
   ],
   "metadata":{
    "datalore":{
     "node_id":"TqQQjc3eHC190mkQoZ6d1x",
     "type":"CODE",
     "hide_input_from_viewers":true,
     "hide_output_from_viewers":true
    }
   }
  },
  {
   "cell_type":"code",
   "source":[
    "# ลองหาวิธีทำ normalizetion เเล้วเอาไปเปรียบเทียบกันใหม่\n",
    "penguins['bill_length_mm'].plot(kind= 'hist',bins=30, color= 'orange');"
   ],
   "execution_count":36,
   "outputs":[
    {
     "data":{
      "image\/png":"[encoded data removed]"
     },
     "metadata":{
      "image\/png":{
       
      }
     },
     "output_type":"display_data"
    }
   ],
   "metadata":{
    "datalore":{
     "node_id":"uvkPAlPtxHtJ0MkILvraTS",
     "type":"CODE",
     "hide_input_from_viewers":true,
     "hide_output_from_viewers":true
    }
   }
  },
  {
   "cell_type":"code",
   "source":[
    "# bar plot for specres\n",
    "penguins['species'].value_counts().plot(kind= 'bar', color=['salmon','orange', 'gold'])"
   ],
   "execution_count":40,
   "outputs":[
    {
     "data":{
      "text\/plain":[
       "<AxesSubplot:>"
      ]
     },
     "metadata":{
      
     },
     "output_type":"display_data"
    },
    {
     "data":{
      "image\/png":"[encoded data removed]"
     },
     "metadata":{
      "image\/png":{
       
      }
     },
     "output_type":"display_data"
    }
   ],
   "metadata":{
    "datalore":{
     "node_id":"wrynAGwWukVG5yI6Laqcjd",
     "type":"CODE",
     "hide_input_from_viewers":true,
     "hide_output_from_viewers":true
    }
   }
  },
  {
   "cell_type":"code",
   "source":[
    "# scatter plot\n",
    "penguins[[ 'bill_length_mm', 'bill_depth_mm']]\\\n",
    "    .plot(x='bill_length_mm', y='bill_depth_mm',kind= \"scatter\", color= 'salmon')"
   ],
   "execution_count":42,
   "outputs":[
    {
     "data":{
      "text\/plain":[
       "<AxesSubplot:xlabel='bill_length_mm', ylabel='bill_depth_mm'>"
      ]
     },
     "metadata":{
      
     },
     "output_type":"display_data"
    },
    {
     "data":{
      "image\/png":"[encoded data removed]"
     },
     "metadata":{
      "image\/png":{
       
      }
     },
     "output_type":"display_data"
    }
   ],
   "metadata":{
    "datalore":{
     "node_id":"IkbEJNx7qwmjQPCFjoEPme",
     "type":"CODE",
     "hide_input_from_viewers":true,
     "hide_output_from_viewers":true
    }
   }
  },
  {
   "cell_type":"markdown",
   "source":[
    "## DataLore Visualization\n",
    "datalore สามารถ สร้าง chat ง่ายๆ โดยไม่ต้องเขียน code \n",
    "- เรียก datafrmae\n",
    "- มีตัวเลือกให้ [table, raw, visualize, statistics]\n",
    "- เลือก  vis. เเล้วหมุนข้อมูลตามที่ต้องการ"
   ],
   "attachments":{
    
   },
   "metadata":{
    "datalore":{
     "node_id":"EAeSuVl3Qj4D7LIvXE0gOf",
     "type":"MD",
     "hide_input_from_viewers":true,
     "hide_output_from_viewers":true
    }
   }
  },
  {
   "cell_type":"code",
   "source":[
    "penguins"
   ],
   "execution_count":43,
   "outputs":[
    {
     "data":{
      "text\/html":[
       "<div>\n",
       "<style scoped>\n",
       "    .dataframe tbody tr th:only-of-type {\n",
       "        vertical-align: middle;\n",
       "    }\n",
       "\n",
       "    .dataframe tbody tr th {\n",
       "        vertical-align: top;\n",
       "    }\n",
       "\n",
       "    .dataframe thead th {\n",
       "        text-align: right;\n",
       "    }\n",
       "<\/style>\n",
       "<table border=\"1\" class=\"dataframe\">\n",
       "  <thead>\n",
       "    <tr style=\"text-align: right;\">\n",
       "      <th><\/th>\n",
       "      <th>species<\/th>\n",
       "      <th>island<\/th>\n",
       "      <th>bill_length_mm<\/th>\n",
       "      <th>bill_depth_mm<\/th>\n",
       "      <th>flipper_length_mm<\/th>\n",
       "      <th>body_mass_g<\/th>\n",
       "      <th>sex<\/th>\n",
       "      <th>sex_new<\/th>\n",
       "    <\/tr>\n",
       "  <\/thead>\n",
       "  <tbody>\n",
       "    <tr>\n",
       "      <th>0<\/th>\n",
       "      <td>Adelie<\/td>\n",
       "      <td>Torgersen<\/td>\n",
       "      <td>39.1<\/td>\n",
       "      <td>18.7<\/td>\n",
       "      <td>181.0<\/td>\n",
       "      <td>3750.0<\/td>\n",
       "      <td>MALE<\/td>\n",
       "      <td>m<\/td>\n",
       "    <\/tr>\n",
       "    <tr>\n",
       "      <th>1<\/th>\n",
       "      <td>Adelie<\/td>\n",
       "      <td>Torgersen<\/td>\n",
       "      <td>39.5<\/td>\n",
       "      <td>17.4<\/td>\n",
       "      <td>186.0<\/td>\n",
       "      <td>3800.0<\/td>\n",
       "      <td>FEMALE<\/td>\n",
       "      <td>f<\/td>\n",
       "    <\/tr>\n",
       "    <tr>\n",
       "      <th>2<\/th>\n",
       "      <td>Adelie<\/td>\n",
       "      <td>Torgersen<\/td>\n",
       "      <td>40.3<\/td>\n",
       "      <td>18.0<\/td>\n",
       "      <td>195.0<\/td>\n",
       "      <td>3250.0<\/td>\n",
       "      <td>FEMALE<\/td>\n",
       "      <td>f<\/td>\n",
       "    <\/tr>\n",
       "    <tr>\n",
       "      <th>3<\/th>\n",
       "      <td>Adelie<\/td>\n",
       "      <td>Torgersen<\/td>\n",
       "      <td>NaN<\/td>\n",
       "      <td>NaN<\/td>\n",
       "      <td>NaN<\/td>\n",
       "      <td>NaN<\/td>\n",
       "      <td>NaN<\/td>\n",
       "      <td>other<\/td>\n",
       "    <\/tr>\n",
       "    <tr>\n",
       "      <th>4<\/th>\n",
       "      <td>Adelie<\/td>\n",
       "      <td>Torgersen<\/td>\n",
       "      <td>36.7<\/td>\n",
       "      <td>19.3<\/td>\n",
       "      <td>193.0<\/td>\n",
       "      <td>3450.0<\/td>\n",
       "      <td>FEMALE<\/td>\n",
       "      <td>f<\/td>\n",
       "    <\/tr>\n",
       "    <tr>\n",
       "      <th>...<\/th>\n",
       "      <td>...<\/td>\n",
       "      <td>...<\/td>\n",
       "      <td>...<\/td>\n",
       "      <td>...<\/td>\n",
       "      <td>...<\/td>\n",
       "      <td>...<\/td>\n",
       "      <td>...<\/td>\n",
       "      <td>...<\/td>\n",
       "    <\/tr>\n",
       "    <tr>\n",
       "      <th>339<\/th>\n",
       "      <td>Gentoo<\/td>\n",
       "      <td>Biscoe<\/td>\n",
       "      <td>NaN<\/td>\n",
       "      <td>NaN<\/td>\n",
       "      <td>NaN<\/td>\n",
       "      <td>NaN<\/td>\n",
       "      <td>NaN<\/td>\n",
       "      <td>other<\/td>\n",
       "    <\/tr>\n",
       "    <tr>\n",
       "      <th>340<\/th>\n",
       "      <td>Gentoo<\/td>\n",
       "      <td>Biscoe<\/td>\n",
       "      <td>46.8<\/td>\n",
       "      <td>14.3<\/td>\n",
       "      <td>215.0<\/td>\n",
       "      <td>4850.0<\/td>\n",
       "      <td>FEMALE<\/td>\n",
       "      <td>f<\/td>\n",
       "    <\/tr>\n",
       "    <tr>\n",
       "      <th>341<\/th>\n",
       "      <td>Gentoo<\/td>\n",
       "      <td>Biscoe<\/td>\n",
       "      <td>50.4<\/td>\n",
       "      <td>15.7<\/td>\n",
       "      <td>222.0<\/td>\n",
       "      <td>5750.0<\/td>\n",
       "      <td>MALE<\/td>\n",
       "      <td>m<\/td>\n",
       "    <\/tr>\n",
       "    <tr>\n",
       "      <th>342<\/th>\n",
       "      <td>Gentoo<\/td>\n",
       "      <td>Biscoe<\/td>\n",
       "      <td>45.2<\/td>\n",
       "      <td>14.8<\/td>\n",
       "      <td>212.0<\/td>\n",
       "      <td>5200.0<\/td>\n",
       "      <td>FEMALE<\/td>\n",
       "      <td>f<\/td>\n",
       "    <\/tr>\n",
       "    <tr>\n",
       "      <th>343<\/th>\n",
       "      <td>Gentoo<\/td>\n",
       "      <td>Biscoe<\/td>\n",
       "      <td>49.9<\/td>\n",
       "      <td>16.1<\/td>\n",
       "      <td>213.0<\/td>\n",
       "      <td>5400.0<\/td>\n",
       "      <td>MALE<\/td>\n",
       "      <td>m<\/td>\n",
       "    <\/tr>\n",
       "  <\/tbody>\n",
       "<\/table>\n",
       "<p>344 rows × 8 columns<\/p>\n",
       "<\/div>"
      ]
     },
     "metadata":{
      
     },
     "output_type":"display_data"
    }
   ],
   "metadata":{
    "datalore":{
     "node_id":"nwKRN6RWJVEwLyr6NlE0eX",
     "type":"CODE",
     "hide_input_from_viewers":true,
     "hide_output_from_viewers":true
    }
   }
  },
  {
   "cell_type":"markdown",
   "source":[
    "# Course Review\n",
    "- Python Language\n",
    "- Pandas Basics\n",
    "- Pandas Intermediate (Data analyst)\n",
    "- Next - Final Project"
   ],
   "attachments":{
    
   },
   "metadata":{
    "datalore":{
     "node_id":"PzEvlpMU7v8cfVe9QmNlqs",
     "type":"MD",
     "hide_input_from_viewers":true,
     "hide_output_from_viewers":true
    }
   }
  }
 ],
 "metadata":{
  "kernelspec":{
   "display_name":"Python",
   "language":"python",
   "name":"python"
  },
  "datalore":{
   "computation_mode":"JUPYTER",
   "package_manager":"pip",
   "base_environment":"default",
   "packages":[
    
   ],
   "report_row_ids":[
    
   ],
   "version":3
  }
 },
 "nbformat":4,
 "nbformat_minor":4
}