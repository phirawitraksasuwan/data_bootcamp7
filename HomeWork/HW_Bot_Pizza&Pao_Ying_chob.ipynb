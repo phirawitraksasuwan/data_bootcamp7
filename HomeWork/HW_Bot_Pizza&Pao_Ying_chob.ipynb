{
  "nbformat": 4,
  "nbformat_minor": 0,
  "metadata": {
    "colab": {
      "provenance": []
    },
    "kernelspec": {
      "name": "python3",
      "display_name": "Python 3"
    },
    "language_info": {
      "name": "python"
    }
  },
  "cells": [
    {
      "cell_type": "code",
      "execution_count": null,
      "metadata": {
        "id": "sgfuAik9d60l"
      },
      "outputs": [],
      "source": [
        "from re import T\n",
        "from os import waitpid\n",
        "def pizzabot() :\n",
        "    orders = []\n",
        "    pizza_list = [\"Hawailan\", \"Pepporoni\", \"Tumyam\", \"vegetarian\", \"Double Cheese\"]\n",
        "    topping_list = [\"Champignon\", \"salami\", \"arugula\", \"mozzarella\",\"No Thanks\" ]\n",
        "    sauces_list = [\"Thousnd Island \", \"BBQ Sauces\", \"Mustard\", \"Mayonnaise\", \" Sauces Cheese\" ,\"No Thanks\"]\n",
        "    \n",
        "    print(\" Hi, Welcome to pi-zi-la.  \")\n",
        "    want = input(\"\"\" Do you want to order pizza \n",
        "    [1] Yes !! \n",
        "    [2] No, Thanks\"\"\")\n",
        "    \n",
        "    while int(want) != 2 :\n",
        "        while True :\n",
        "            print(\" \")\n",
        "            print(pizza_list)\n",
        "            pizza = input(\"Please select types of pizza :\")\n",
        "            if pizza in pizza_list : \n",
        "                orders.append(pizza)\n",
        "            else:\n",
        "                print(\" \")\n",
        "                print(\"Sorry this choice is not avaliable, Choose again! \")\n",
        "                continue\n",
        "        \n",
        "            while True :\n",
        "                print(\" \")\n",
        "                print(topping_list)\n",
        "                topping = input(\"Please select topping pizza add-on :\")\n",
        "                if topping in topping_list :\n",
        "                    orders.append(topping)\n",
        "                else :\n",
        "                    print(\" \")\n",
        "                    print(\"Sorry this choice is not avaliable, Choose again! \")\n",
        "                    continue\n",
        "\n",
        "                while True :\n",
        "                    print(\" \") \n",
        "                    print(sauces_list)\n",
        "                    sauces = input(\"Plesase select sauces : \")\n",
        "                    if sauces in sauces_list :\n",
        "                        orders.append(sauces)\n",
        "                    else :\n",
        "                        print(\" \") \n",
        "                        print(\"Sorry this choice is not avaliable, Choose again! \")\n",
        "                        continue\n",
        "\n",
        "                    \n",
        "                    size = input(f\"\"\" What size pizza do you want? \n",
        "                    [1]small \n",
        "                    [2]medium\n",
        "                    [3]large \"\"\")\n",
        "                    orders.append(size)\n",
        "\n",
        "                    print(\" ``` Order Summary``` \")\n",
        "                    return orders\n",
        "        \n",
        "\n",
        "        \n"
      ]
    },
    {
      "cell_type": "code",
      "source": [
        "pizzabot()\n"
      ],
      "metadata": {
        "colab": {
          "base_uri": "https://localhost:8080/"
        },
        "id": "_kBoCR7PZxxB",
        "outputId": "b141e1d1-e622-4e58-f90f-f2825a76a48d"
      },
      "execution_count": null,
      "outputs": [
        {
          "output_type": "stream",
          "name": "stdout",
          "text": [
            " Hi, Welcome to pi-zi-la.  \n",
            " Do you want to order pizza \n",
            "    [1] Yes !! \n",
            "    [2] No, Thanks1\n",
            " \n",
            "['Hawailan', 'Pepporoni', 'Tumyam', 'vegetarian', 'Double Cheese']\n",
            "Please select types of pizza :Tumyam\n",
            " \n",
            "['Champignon', 'salami', 'arugula', 'mozzarella', 'No Thanks']\n",
            "Please select topping pizza add-on :mozzarella\n",
            " \n",
            "['Thousnd Island ', 'BBQ Sauces', 'Mustard', 'Mayonnaise', ' Sauces Cheese', 'No Thanks']\n",
            "Plesase select sauces : Mustard\n",
            " What size pizza do you want? \n",
            "                    [1]small \n",
            "                    [2]medium\n",
            "                    [3]large small\n",
            " ``` Order Summary``` \n"
          ]
        },
        {
          "output_type": "execute_result",
          "data": {
            "text/plain": [
              "['Tumyam', 'mozzarella', 'Mustard', 'small']"
            ]
          },
          "metadata": {},
          "execution_count": 10
        }
      ]
    },
    {
      "cell_type": "markdown",
      "source": [
        "#Pao Ying Chob"
      ],
      "metadata": {
        "id": "cFuPVErhjySo"
      }
    },
    {
      "cell_type": "code",
      "source": [
        "import random\n",
        "\n",
        "def PYC():\n",
        "    option_list = [\"R\" , \"P\", \"S\"]\n",
        "    user_score = 0\n",
        "    computer_score = 0\n",
        "    count = 0\n",
        "\n",
        "    print(\"\"\"    ======================\n",
        "    Welcome to Pro-Ying-Chub GAME\n",
        "    ======================\n",
        "    You can choose one of choice :\n",
        "    'R' Rock\n",
        "    'P' Paper\n",
        "    'S' Scissor\"\"\")\n",
        "    print(\"Let's Strat game Pao-Ying-Chub\")\n",
        "    while True: \n",
        "        count += 1 # ใช้เเชทช่วย\n",
        "        user_choose = input(f\"Please select [R]Rock, [P]Paper, [S]Scissors : \")\n",
        "        computer_choose = random.choice(option_list)\n",
        "        if (user_choose.upper() != \"R\") & (user_choose.upper() != \"P\") & (user_choose.upper() != \"S\") & (user_choose.lower() != \"exit\") :\n",
        "            print(\"Plaese select again\")\n",
        "        else:\n",
        "            if (user_choose == 'R') & (computer_choose == 'S') | (user_choose == 'S') & (computer_choose == 'P') | (user_choose == 'P') & (computer_choose == 'R') :\n",
        "                print(f\"Your Choice : {user_choose}\")\n",
        "                print(f\"Bot Choice : {computer_choose}\")\n",
        "                print(\" --- Win ---\")\n",
        "                user_score += 1\n",
        "            elif (user_choose == computer_choose):\n",
        "                print(f\"Your Choice : {user_choose}\")\n",
        "                print(f\"Bot Choice : {computer_choose}\")\n",
        "                print(\" --- Tie ---\")\n",
        "            elif user_choose == \"exit\" :\n",
        "                print(\" \")\n",
        "                print(\"----Score Summary----\")\n",
        "                print(f\" Your score is {user_score} \")\n",
        "                print(f\" Bot score is {computer_score}\")\n",
        "                print(f\" Total number of rounds played is {count}\") # ใช้เเชทช่วย \n",
        "                print(\" \")\n",
        "                print(\"---- Thank You for Your Time !! ----\")\n",
        "                break\n",
        "            else :\n",
        "                print(f\"Your Choice : {user_choose}\")\n",
        "                print(f\"Bot Choice : {computer_choose}\")\n",
        "                print(\" --- Lose ---\")\n",
        "                computer_score += 1"
      ],
      "metadata": {
        "id": "dV_-rdFWjwp0"
      },
      "execution_count": null,
      "outputs": []
    },
    {
      "cell_type": "code",
      "source": [
        "PYC()"
      ],
      "metadata": {
        "id": "SwEQSaWhZjZ4",
        "colab": {
          "base_uri": "https://localhost:8080/"
        },
        "outputId": "ca07fab1-efb1-49dd-c992-04c7d18d1370"
      },
      "execution_count": null,
      "outputs": [
        {
          "output_type": "stream",
          "name": "stdout",
          "text": [
            "    ======================\n",
            "    Welcome to Pro-Ying-Chub GAME\n",
            "    ======================\n",
            "    You can choose one of choice :\n",
            "    'R' Rock\n",
            "    'P' Paper\n",
            "    'S' Scissor\n",
            "Let's Strat game Pao-Ying-Chub\n",
            "Please select [R]Rock, [P]Paper, [S]Scissors : P\n",
            "Your Choice : P\n",
            "Bot Choice : S\n",
            " --- Lose ---\n",
            "Please select [R]Rock, [P]Paper, [S]Scissors : P\n",
            "Your Choice : P\n",
            "Bot Choice : S\n",
            " --- Lose ---\n",
            "Please select [R]Rock, [P]Paper, [S]Scissors : P\n",
            "Your Choice : P\n",
            "Bot Choice : P\n",
            " --- Tie ---\n",
            "Please select [R]Rock, [P]Paper, [S]Scissors : P\n",
            "Your Choice : P\n",
            "Bot Choice : R\n",
            " --- Win ---\n",
            "Please select [R]Rock, [P]Paper, [S]Scissors : P\n",
            "Your Choice : P\n",
            "Bot Choice : R\n",
            " --- Win ---\n",
            "Please select [R]Rock, [P]Paper, [S]Scissors : P\n",
            "Your Choice : P\n",
            "Bot Choice : P\n",
            " --- Tie ---\n",
            "Please select [R]Rock, [P]Paper, [S]Scissors : exit\n",
            " \n",
            "----Score Summary----\n",
            " Your score is 2 \n",
            " Bot score is 2\n",
            " count is 7\n",
            " \n",
            "---- Thank You for Your Time !! ----\n"
          ]
        }
      ]
    },
    {
      "cell_type": "code",
      "source": [],
      "metadata": {
        "id": "lPLNrB171TjQ"
      },
      "execution_count": null,
      "outputs": []
    }
  ]
}